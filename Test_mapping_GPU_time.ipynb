{
 "cells": [
  {
   "cell_type": "code",
   "execution_count": 2,
   "metadata": {},
   "outputs": [
    {
     "name": "stdout",
     "output_type": "stream",
     "text": [
      "CUDA device available confirm: True\n",
      "Memory allocated before 0\n",
      "8.4 ms ± 261 µs per loop (mean ± std. dev. of 7 runs, 100 loops each)\n",
      "Memory allocated post load 0\n"
     ]
    }
   ],
   "source": [
    "import torch\n",
    "\n",
    "print('CUDA device available confirm:', torch.cuda.is_available())\n",
    "\n",
    "model_path = 'QA_model.pth'\n",
    "device = torch.device(0)\n",
    "\n",
    "print('Memory allocated before',torch.cuda.memory_allocated(device = device))\n",
    "# Via CPU\n",
    "%timeit torch.load(model_path, map_location=lambda storage, loc: storage) \n",
    "print('Memory allocated post load',torch.cuda.memory_allocated(device = device))"
   ]
  },
  {
   "cell_type": "code",
   "execution_count": 3,
   "metadata": {},
   "outputs": [
    {
     "name": "stdout",
     "output_type": "stream",
     "text": [
      "CUDA device available confirm: True\n",
      "Memory allocated post load 0\n",
      "26.2 ms ± 204 µs per loop (mean ± std. dev. of 7 runs, 10 loops each)\n",
      "Memory allocated post load 0\n"
     ]
    }
   ],
   "source": [
    "import torch\n",
    "\n",
    "print('CUDA device available confirm:', torch.cuda.is_available())\n",
    "\n",
    "model_path = 'QA_model.pth'\n",
    "device = torch.device(0)\n",
    "\n",
    "print('Memory allocated post load',torch.cuda.memory_allocated(device = device))\n",
    "# Load directly\n",
    "%timeit torch.load(model_path, map_location=device) \n",
    "print('Memory allocated post load',torch.cuda.memory_allocated(device = device))"
   ]
  }
 ],
 "metadata": {
  "kernelspec": {
   "display_name": "Python 3.8.13 ('QA')",
   "language": "python",
   "name": "python3"
  },
  "language_info": {
   "codemirror_mode": {
    "name": "ipython",
    "version": 3
   },
   "file_extension": ".py",
   "mimetype": "text/x-python",
   "name": "python",
   "nbconvert_exporter": "python",
   "pygments_lexer": "ipython3",
   "version": "3.8.13"
  },
  "orig_nbformat": 4,
  "vscode": {
   "interpreter": {
    "hash": "f4c96699ea0e8307481cf97fe144dfad0a0bb5a43b2bb560c1f165d72a263819"
   }
  }
 },
 "nbformat": 4,
 "nbformat_minor": 2
}
